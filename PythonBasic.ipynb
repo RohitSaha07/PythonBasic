{
  "nbformat": 4,
  "nbformat_minor": 0,
  "metadata": {
    "colab": {
      "provenance": []
    },
    "kernelspec": {
      "name": "python3",
      "display_name": "Python 3"
    },
    "language_info": {
      "name": "python"
    }
  },
  "cells": [
    {
      "cell_type": "markdown",
      "source": [
        "# Python Basics Assignment Questions"
      ],
      "metadata": {
        "id": "3CUMgZA_nU4T"
      }
    },
    {
      "cell_type": "markdown",
      "source": [
        "1. What is Python,and why is it popular?\n",
        "   - Python is a high level interpreted programming language.\n",
        "   - Python is popular because it is simple and readable, platform independent, rich modules and libraries, versatile and industry demand. In today's world, data science, data analytics, AI, ML are in huge demand. So, all these fields require huge data. So, storage is a big issue. Now, python is interpreted and interpreted programming languages are more memory efficient than compiled programming languages.\n",
        "2. What is an interpreter in Python?\n",
        "   - An interpreter in Python is a program that reads and executes code line by line instead of compiling the whole program.\n",
        "3. What are pre-defined keywords in Python?\n",
        "   - Keywords in Python are reserved words that have a special meaning. We cannot use them as variable names, function names, or identifiers. Currently, Python has 35 keywords: False, await, else, import, pass, None, break, except, in, raise, True, class, finally, is, return, and, continue, for, lambda, try, as, def, from, nonlocal, while, assert, del, global, not, with, async, elif, if, or, yield.\n",
        "4. Can keywords be used as variable names?\n",
        "   - No, python does not allow keywords to be used as variable names because keywords are reserved.If Python allowed it, the interpreter would not know whether user trying to use a keyword or refer to a variable.\n",
        "5. What is mutability in Python?\n",
        "   - Mutability means whether an object can be changed after it is created. Mutable objects can be changed but immutable objects cannot be changed.\n",
        "6. Why are lists mutable, but tuples are immutable?\n",
        "   - Lists are mutable because lists are meant for dynamic collections and efficient for large data handling. But Tuples are immutable because Tuples are meant for fixed data, Data Integrity and Hashability.\n",
        "7. What is the difference between “==” and “is” operators in Python?\n",
        "   - == Operator checks values equality and returns True if the data inside two objects is the same. But is Operator checks identity (memory address). Returns True if both variables point to the exact same object in memory.\n",
        "8. What are logical operators in Python?\n",
        "   - Logical operators are used to combine conditional statements and return True or False. Python has three logical operators: and, or, not.\n",
        "9. What is type casting in Python?\n",
        "   - Type Casting in Python means changing the data type of a value or variable into another type. There are two types of Type Casting - implicit and explicit.\n",
        "10. What is the difference between implicit and explicit type casting?\n",
        "    - In Python implicit type casting happens automatically when the interpreter converts one data type to another to avoid data loss. This usually occurs when combining values of different types. For example, if you add an integer and a float, Python automatically converts the integer into a float. On the other hand, explicit type casting is when the programmer manually converts one data type into another using built-in functions such as int(), float(), str(), list(), or tuple(). For example, converting a float to an integer with int() function gives int.\n",
        "11. What is the purpose of conditional statements in Python?\n",
        "    - The purpose of conditional statements in Python is to control the flow of a program by making decisions based on certain conditions. For example, using if, elif, and else, Python can check whether a condition is satisfied and then run the corresponding instructions.\n",
        "12.  How does the elif statement work?\n",
        "     - The program first evaluates the condition in the if statement. If it is True, the corresponding block of code executes. If it is False, Python moves on to check the next condition under elif. If condition is true, the block of code gets executed.\n",
        "13. What is the difference between for and while loops?\n",
        "    - A for loop is used when user know in advance how many times the user want to repeat a block of code. A while loop on the other hand, is used when user want to keep repeating a block of code as long as a condition remains true.\n",
        "14. Describe a scenario where a while loop is more suitable than a for loop.\n",
        "    - A while loop is more suitable than a for loop in situations where we donot know beforehand how many times the loop should run, and the repetition depends entirely on a condition being true.\n"
      ],
      "metadata": {
        "id": "LIGU8ga6o5Uz"
      }
    },
    {
      "cell_type": "markdown",
      "source": [
        "# Practical Questions"
      ],
      "metadata": {
        "id": "oBGVwgk2GG8t"
      }
    },
    {
      "cell_type": "code",
      "source": [
        "# 1. Write a Python program to print \"Hello, World!\"\n",
        "print(\"Hello, World!\")"
      ],
      "metadata": {
        "colab": {
          "base_uri": "https://localhost:8080/"
        },
        "id": "XOWUJ60tGlPv",
        "outputId": "4abc7fa3-2fd0-43e5-def5-0304d0f0abdd"
      },
      "execution_count": 1,
      "outputs": [
        {
          "output_type": "stream",
          "name": "stdout",
          "text": [
            "Hello, World!\n"
          ]
        }
      ]
    },
    {
      "cell_type": "code",
      "source": [
        "# 2. Write a Python program that displays your name and age.\n",
        "name = \"Rohit Saha\"\n",
        "age = 24\n",
        "\n",
        "print(\"My name is\", name)\n",
        "print(\"I am\", age, \"years old\")"
      ],
      "metadata": {
        "colab": {
          "base_uri": "https://localhost:8080/"
        },
        "id": "k4jX59RbG2cc",
        "outputId": "9fe37614-b5d4-4748-fd3e-3f70546274bb"
      },
      "execution_count": 2,
      "outputs": [
        {
          "output_type": "stream",
          "name": "stdout",
          "text": [
            "My name is Rohit Saha\n",
            "I am 24 years old\n"
          ]
        }
      ]
    },
    {
      "cell_type": "code",
      "source": [
        "# 3. Write code to print all the pre-defined keywords in Python using the keyword library.\n",
        "import keyword\n",
        "print(\"List of Python keywords:\")\n",
        "print(keyword.kwlist)"
      ],
      "metadata": {
        "colab": {
          "base_uri": "https://localhost:8080/"
        },
        "id": "YJBk_UiQHJMU",
        "outputId": "057ba8cb-9e7c-4a28-aa2f-7ceb1607e6e1"
      },
      "execution_count": 3,
      "outputs": [
        {
          "output_type": "stream",
          "name": "stdout",
          "text": [
            "List of Python keywords:\n",
            "['False', 'None', 'True', 'and', 'as', 'assert', 'async', 'await', 'break', 'class', 'continue', 'def', 'del', 'elif', 'else', 'except', 'finally', 'for', 'from', 'global', 'if', 'import', 'in', 'is', 'lambda', 'nonlocal', 'not', 'or', 'pass', 'raise', 'return', 'try', 'while', 'with', 'yield']\n"
          ]
        }
      ]
    },
    {
      "cell_type": "code",
      "source": [
        "# 4. Write a program that checks if a given word is a Python keyword.\n",
        "import keyword\n",
        "word = input(\"Enter a word to check: \")\n",
        "if keyword.iskeyword(word):\n",
        "    print(f\"'{word}' is a Python keyword.\")\n",
        "else:\n",
        "    print(f\"'{word}' is NOT a Python keyword.\")"
      ],
      "metadata": {
        "colab": {
          "base_uri": "https://localhost:8080/"
        },
        "id": "qJ-hKIYcHgFW",
        "outputId": "14de36e3-5f4e-4f60-fd0b-01b49c305cf6"
      },
      "execution_count": 4,
      "outputs": [
        {
          "output_type": "stream",
          "name": "stdout",
          "text": [
            "Enter a word to check: if\n",
            "'if' is a Python keyword.\n"
          ]
        }
      ]
    },
    {
      "cell_type": "code",
      "source": [
        "# 5. Create a list and tuple in Python, and demonstrate how attempting to change an element works differently for each.\n",
        "my_list = [10, 20, 30]\n",
        "my_tuple = (10, 20, 30)\n",
        "print(\"Original list:\", my_list)\n",
        "print(\"Original tuple:\", my_tuple)\n",
        "my_list[1] = 99\n",
        "print(\"Modified list:\", my_list)\n",
        "try:\n",
        "    my_tuple[1] = 99\n",
        "except TypeError as e:\n",
        "    print(\"Error while modifying tuple:\", e)"
      ],
      "metadata": {
        "colab": {
          "base_uri": "https://localhost:8080/"
        },
        "id": "AW7N4EeaH7qm",
        "outputId": "7031b4e3-3940-49f8-a27a-31b74ae33eb6"
      },
      "execution_count": 5,
      "outputs": [
        {
          "output_type": "stream",
          "name": "stdout",
          "text": [
            "Original list: [10, 20, 30]\n",
            "Original tuple: (10, 20, 30)\n",
            "Modified list: [10, 99, 30]\n",
            "Error while modifying tuple: 'tuple' object does not support item assignment\n"
          ]
        }
      ]
    },
    {
      "cell_type": "code",
      "source": [
        "# 6. Write a function to demonstrate the behavior of mutable and immutable arguments.\n",
        "def modify_values(num, lst):\n",
        "    num += 10\n",
        "    lst.append(100)\n",
        "    print(\"Inside function -> num:\", num)\n",
        "    print(\"Inside function -> lst:\", lst)\n",
        "a = 5\n",
        "b = [1, 2, 3]\n",
        "print(\"Before function call -> a:\", a)\n",
        "print(\"Before function call -> b:\", b)\n",
        "modify_values(a, b)\n",
        "print(\"After function call -> a:\", a)\n",
        "print(\"After function call -> b:\", b)\n"
      ],
      "metadata": {
        "colab": {
          "base_uri": "https://localhost:8080/"
        },
        "id": "xmIYsA-AIcdA",
        "outputId": "19db8a9e-0905-4024-967e-21fe5b944ec8"
      },
      "execution_count": 6,
      "outputs": [
        {
          "output_type": "stream",
          "name": "stdout",
          "text": [
            "Before function call -> a: 5\n",
            "Before function call -> b: [1, 2, 3]\n",
            "Inside function -> num: 15\n",
            "Inside function -> lst: [1, 2, 3, 100]\n",
            "After function call -> a: 5\n",
            "After function call -> b: [1, 2, 3, 100]\n"
          ]
        }
      ]
    },
    {
      "cell_type": "code",
      "source": [
        "# 7.  Write a program that performs basic arithmetic operations on two user-input numbers.\n",
        "num1 = float(input(\"Enter the first number: \"))\n",
        "num2 = float(input(\"Enter the second number: \"))\n",
        "addition = num1 + num2\n",
        "subtraction = num1 - num2\n",
        "multiplication = num1 * num2\n",
        "if num2 != 0:\n",
        "    division = num1 / num2\n",
        "else:\n",
        "    division = \"Undefined (division by zero)\"\n",
        "print(\"\\nResults:\")\n",
        "print(f\"{num1} + {num2} = {addition}\")\n",
        "print(f\"{num1} - {num2} = {subtraction}\")\n",
        "print(f\"{num1} * {num2} = {multiplication}\")\n",
        "print(f\"{num1} / {num2} = {division}\")"
      ],
      "metadata": {
        "colab": {
          "base_uri": "https://localhost:8080/"
        },
        "id": "IxiCfV-CJE9K",
        "outputId": "b212a184-1bed-4f5f-fc67-e055b3467a9e"
      },
      "execution_count": 7,
      "outputs": [
        {
          "output_type": "stream",
          "name": "stdout",
          "text": [
            "Enter the first number: 7\n",
            "Enter the second number: 27\n",
            "\n",
            "Results:\n",
            "7.0 + 27.0 = 34.0\n",
            "7.0 - 27.0 = -20.0\n",
            "7.0 * 27.0 = 189.0\n",
            "7.0 / 27.0 = 0.25925925925925924\n"
          ]
        }
      ]
    },
    {
      "cell_type": "code",
      "source": [
        "# 8. Write a program to demonstrate the use of logical operators.\n",
        "age = int(input(\"Enter your age: \"))\n",
        "has_id = input(\"Do you have an ID card? (yes/no): \").lower()\n",
        "if age >= 18 and has_id == \"yes\":\n",
        "    print(\"You are eligible to vote.\")\n",
        "else:\n",
        "    print(\"You are NOT eligible to vote.\")\n",
        "has_passport = input(\"Do you have a passport? (yes/no): \").lower()\n",
        "if has_id == \"yes\" or has_passport == \"yes\":\n",
        "    print(\"You can travel internationally.\")\n",
        "else:\n",
        "    print(\"You cannot travel internationally.\")\n",
        "is_sick = input(\"Are you sick? (yes/no): \").lower()\n",
        "if not is_sick == \"yes\":\n",
        "    print(\"You can go for a walk.\")\n",
        "else:\n",
        "    print(\"Stay at home and rest.\")"
      ],
      "metadata": {
        "colab": {
          "base_uri": "https://localhost:8080/"
        },
        "id": "anEQzIWtJddx",
        "outputId": "126e9706-c768-4aee-9c67-354634e962fc"
      },
      "execution_count": 8,
      "outputs": [
        {
          "output_type": "stream",
          "name": "stdout",
          "text": [
            "Enter your age: 24\n",
            "Do you have an ID card? (yes/no): yes\n",
            "You are eligible to vote.\n",
            "Do you have a passport? (yes/no): yes\n",
            "You can travel internationally.\n",
            "Are you sick? (yes/no): no\n",
            "You can go for a walk.\n"
          ]
        }
      ]
    },
    {
      "cell_type": "code",
      "source": [
        "# 9. Write a Python program to convert user input from string to integer, float, and boolean types.\n",
        "user_input = input(\"Enter a value: \")\n",
        "try:\n",
        "    int_value = int(user_input)\n",
        "    print(\"Integer value:\", int_value)\n",
        "except ValueError:\n",
        "    print(\"Cannot convert to integer.\")\n",
        "try:\n",
        "    float_value = float(user_input)\n",
        "    print(\"Float value:\", float_value)\n",
        "except ValueError:\n",
        "    print(\"Cannot convert to float.\")\n",
        "bool_value = bool(user_input)\n",
        "print(\"Boolean value:\", bool_value)"
      ],
      "metadata": {
        "colab": {
          "base_uri": "https://localhost:8080/"
        },
        "id": "ARd9qPwLJ2xX",
        "outputId": "a5e64a42-442a-4296-cc6b-2dbb479d02f9"
      },
      "execution_count": 9,
      "outputs": [
        {
          "output_type": "stream",
          "name": "stdout",
          "text": [
            "Enter a value: 7\n",
            "Integer value: 7\n",
            "Float value: 7.0\n",
            "Boolean value: True\n"
          ]
        }
      ]
    },
    {
      "cell_type": "code",
      "source": [
        "# 10. Write code to demonstrate type casting with list elements.\n",
        "str_list = [\"10\", \"20\", \"30\", \"40\"]\n",
        "int_list = [int(x) for x in str_list]\n",
        "print(\"Original list (strings):\", str_list)\n",
        "print(\"Converted list (integers):\", int_list)"
      ],
      "metadata": {
        "colab": {
          "base_uri": "https://localhost:8080/"
        },
        "id": "m_HBmRD3KNb3",
        "outputId": "b748ddaa-a1a9-4da3-d950-b2e4d9c8640d"
      },
      "execution_count": 10,
      "outputs": [
        {
          "output_type": "stream",
          "name": "stdout",
          "text": [
            "Original list (strings): ['10', '20', '30', '40']\n",
            "Converted list (integers): [10, 20, 30, 40]\n"
          ]
        }
      ]
    },
    {
      "cell_type": "code",
      "source": [
        "# 11. Write a program that checks if a number is positive, negative, or zero.\n",
        "num = float(input(\"Enter a number: \"))\n",
        "if num > 0:\n",
        "    print(\"The number is positive.\")\n",
        "elif num < 0:\n",
        "    print(\"The number is negative.\")\n",
        "else:\n",
        "    print(\"The number is zero.\")"
      ],
      "metadata": {
        "colab": {
          "base_uri": "https://localhost:8080/"
        },
        "id": "SEnBcVm9KmVq",
        "outputId": "88afecb7-ded5-4d08-a3d2-80ec06371a07"
      },
      "execution_count": 11,
      "outputs": [
        {
          "output_type": "stream",
          "name": "stdout",
          "text": [
            "Enter a number: 8\n",
            "The number is positive.\n"
          ]
        }
      ]
    },
    {
      "cell_type": "code",
      "source": [
        "# 12.  Write a for loop to print numbers from 1 to 10.\n",
        "for i in range(1, 11):\n",
        "    print(i)"
      ],
      "metadata": {
        "colab": {
          "base_uri": "https://localhost:8080/"
        },
        "id": "x_-P_9nyK_2G",
        "outputId": "2ba27848-8a1a-4b45-d86b-85cc2dbdf4a4"
      },
      "execution_count": 12,
      "outputs": [
        {
          "output_type": "stream",
          "name": "stdout",
          "text": [
            "1\n",
            "2\n",
            "3\n",
            "4\n",
            "5\n",
            "6\n",
            "7\n",
            "8\n",
            "9\n",
            "10\n"
          ]
        }
      ]
    },
    {
      "cell_type": "code",
      "source": [
        "# 13. Write a Python program to find the sum of all even numbers between 1 and 50.\n",
        "total = 0\n",
        "for num in range(1, 51):\n",
        "    if num % 2 == 0:\n",
        "        total += num\n",
        "print(\"The sum of all even numbers between 1 and 50 is:\", total)"
      ],
      "metadata": {
        "colab": {
          "base_uri": "https://localhost:8080/"
        },
        "id": "sHCkFu--LMHQ",
        "outputId": "28c34529-26b6-4edd-c8b6-9bef3fac12d9"
      },
      "execution_count": 13,
      "outputs": [
        {
          "output_type": "stream",
          "name": "stdout",
          "text": [
            "The sum of all even numbers between 1 and 50 is: 650\n"
          ]
        }
      ]
    },
    {
      "cell_type": "code",
      "source": [
        "# 14.  Write a program to reverse a string using a while loop.\n",
        "original_string = input(\"Enter a string: \")\n",
        "reversed_string = \"\"\n",
        "index = len(original_string) - 1\n",
        "while index >= 0:\n",
        "    reversed_string += original_string[index]\n",
        "    index -= 1\n",
        "print(\"Reversed string:\", reversed_string)"
      ],
      "metadata": {
        "colab": {
          "base_uri": "https://localhost:8080/"
        },
        "id": "KaKptlzELeb4",
        "outputId": "67aee2b7-99ea-485c-b007-fbf187cb42f9"
      },
      "execution_count": 14,
      "outputs": [
        {
          "output_type": "stream",
          "name": "stdout",
          "text": [
            "Enter a string: rohit\n",
            "Reversed string: tihor\n"
          ]
        }
      ]
    },
    {
      "cell_type": "code",
      "source": [
        "# 15.  Write a Python program to calculate the factorial of a number provided by the user using a while loop.\n",
        "num = int(input(\"Enter a number: \"))\n",
        "factorial = 1\n",
        "n = num\n",
        "if num < 0:\n",
        "    print(\"Factorial does not exist for negative numbers.\")\n",
        "elif num == 0:\n",
        "    print(\"The factorial of 0 is 1.\")\n",
        "else:\n",
        "    while n > 0:\n",
        "        factorial *= n\n",
        "        n -= 1\n",
        "    print(f\"The factorial of {num} is {factorial}\")"
      ],
      "metadata": {
        "colab": {
          "base_uri": "https://localhost:8080/"
        },
        "id": "kOBqu7QoL194",
        "outputId": "68f5ff04-d4fa-4168-da50-5d0918e3d323"
      },
      "execution_count": 15,
      "outputs": [
        {
          "output_type": "stream",
          "name": "stdout",
          "text": [
            "Enter a number: 5\n",
            "The factorial of 5 is 120\n"
          ]
        }
      ]
    }
  ]
}